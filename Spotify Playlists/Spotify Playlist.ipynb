{
 "cells": [
  {
   "cell_type": "markdown",
   "id": "5cddfabf",
   "metadata": {},
   "source": [
    "# Описание датасета\n",
    "\n",
    "Датасет собран с помощью тех пользователей, что делились прослушиваемыми песнями в запрещённом twitter через ушедший из РФ spotify и представляет из себя таблицу с четыремя столбцами:\n",
    "1. ID пользователя\n",
    "2. Имя исполнителя\n",
    "3. Название песни\n",
    "4. Название плейлиста, из которого проигрывалась песня\n",
    "\n",
    "Мы будем строить рекомендательную систему для поиска исполнителей и, как следствие, использовать будем только два первых столбца.\n",
    "\n",
    "Сам датасет доступен на kaggle: https://www.kaggle.com/datasets/andrewmvd/spotify-playlists"
   ]
  },
  {
   "cell_type": "markdown",
   "id": "bd6c07c8",
   "metadata": {},
   "source": [
    "# Идея построения рекомендательной системы"
   ]
  },
  {
   "cell_type": "markdown",
   "id": "2a245d53",
   "metadata": {},
   "source": [
    "Для начала мы строим граф вершины которого - слушатели. В каждой вершине будет содержаться множество исполнителей, которых слушал пользователь. Пусть для некоторых двух слушателей A и B - множество исполнителей, которых слушал первый и второй пользователи соот-но, тогда эти вершины соединяются ребром, если $$\\frac{|A \\cap B|}{min(|A|, |B|)} > \\epsilon$$\n",
    "\n",
    "Далее делаем то же самое, но в качестве вершин будут выступать исполнители.\n",
    "\n",
    "Параметр эпсилон для обоих случаев определим позже.\n",
    "\n",
    "Далее с помощью алгоритма node2vec (описанного в [этой работе](https://arxiv.org/abs/1607.00653)) представляем каждую вершину каждого графа вектором фиксированной длины. После этого мы имеем три варианта рекомендательной системы:\n",
    "1. Для заданного слушателя находить ближайшего к нему пользователя и рекомендовать первому то, что слушает последний \n",
    "2. Для заданного исполнителя или списка исполнителей находить список наиболее похожих артистов и рекомендовать их\n",
    "3. Просмотреть пересечение описанных выше рекомендаций и рекомендовать их"
   ]
  },
  {
   "cell_type": "markdown",
   "id": "2715bcd4",
   "metadata": {},
   "source": [
    "# Важно"
   ]
  },
  {
   "cell_type": "markdown",
   "id": "ce79af32",
   "metadata": {},
   "source": [
    "Ниже используется [эта](https://github.com/eliorc/node2vec) реализация node2vec. К сожалению, она реализована на python'е, а значит, априори не эффективна в смысле времени выполнения. Другие, более эффективные, реализации этого алгоритма (например, [эта](https://github.com/aditya-grover/node2vec) и [эта](https://github.com/snap-stanford/snap/tree/master/examples/node2vec)) не имеют python-интерфейса.\n",
    "\n",
    "В силу вышесказанного, придётся идти на некоторые ухищрения и даже, к сожалению, компромиссы, чтоб этот блокнот выполнялся за разумное время"
   ]
  },
  {
   "cell_type": "markdown",
   "id": "03c16802",
   "metadata": {},
   "source": [
    "# Ближе к делу"
   ]
  },
  {
   "cell_type": "code",
   "execution_count": 1,
   "id": "89875392",
   "metadata": {},
   "outputs": [],
   "source": [
    "import numpy as np\n",
    "import pandas as pd\n",
    "import networkx as nx # библиотека для работы с графами\n",
    "import random\n",
    "\n",
    "from node2vec import Node2Vec\n",
    "from sklearn.preprocessing import LabelEncoder\n",
    "from tqdm.notebook import tqdm, trange # для отслеживания времени выполнения циклов"
   ]
  },
  {
   "cell_type": "markdown",
   "id": "87fafeb2",
   "metadata": {},
   "source": [
    "Данных очень много, а используемый здесь алгоритм, как упоминалось ранее, реализован на python'е, так что использовать мы будем лишь случайную половину датасета"
   ]
  },
  {
   "cell_type": "code",
   "execution_count": 2,
   "id": "31ed322a",
   "metadata": {},
   "outputs": [],
   "source": [
    "random.seed(1) # Установка инициализатора генератора случайных чисел для обеспечения повторяемости \n",
    "p = 0.5"
   ]
  },
  {
   "cell_type": "code",
   "execution_count": 3,
   "id": "4b66d73e",
   "metadata": {},
   "outputs": [
    {
     "data": {
      "text/html": [
       "<div>\n",
       "<style scoped>\n",
       "    .dataframe tbody tr th:only-of-type {\n",
       "        vertical-align: middle;\n",
       "    }\n",
       "\n",
       "    .dataframe tbody tr th {\n",
       "        vertical-align: top;\n",
       "    }\n",
       "\n",
       "    .dataframe thead th {\n",
       "        text-align: right;\n",
       "    }\n",
       "</style>\n",
       "<table border=\"1\" class=\"dataframe\">\n",
       "  <thead>\n",
       "    <tr style=\"text-align: right;\">\n",
       "      <th></th>\n",
       "      <th>user_id</th>\n",
       "      <th>\"artistname\"</th>\n",
       "      <th>\"trackname\"</th>\n",
       "      <th>\"playlistname\"</th>\n",
       "    </tr>\n",
       "  </thead>\n",
       "  <tbody>\n",
       "    <tr>\n",
       "      <th>3764902</th>\n",
       "      <td>a269d6d18b4a2278e109c77984d5d69a</td>\n",
       "      <td>Caspar Babypants</td>\n",
       "      <td>Being for the Benefit of Mr. Kite</td>\n",
       "      <td>kurtcobain mix tape 1989</td>\n",
       "    </tr>\n",
       "    <tr>\n",
       "      <th>3056450</th>\n",
       "      <td>6e5cbfe3f56e26d6ea483c195c301664</td>\n",
       "      <td>El sueño de Morfeo</td>\n",
       "      <td>Nos vemos en el camino</td>\n",
       "      <td>Starred</td>\n",
       "    </tr>\n",
       "    <tr>\n",
       "      <th>2376113</th>\n",
       "      <td>322fb7511b717ac69b728e68d685aa0c</td>\n",
       "      <td>Rye Rye</td>\n",
       "      <td>New Thing</td>\n",
       "      <td>Starred</td>\n",
       "    </tr>\n",
       "    <tr>\n",
       "      <th>541298</th>\n",
       "      <td>48b43f9ece4370dbe10fe03ecb4649a2</td>\n",
       "      <td>Coldplay</td>\n",
       "      <td>Midnight</td>\n",
       "      <td>The Last Leg</td>\n",
       "    </tr>\n",
       "    <tr>\n",
       "      <th>5703813</th>\n",
       "      <td>36ed222dab541663004adc160317e69d</td>\n",
       "      <td>Styx</td>\n",
       "      <td>Mr. Roboto</td>\n",
       "      <td>Liked from Radio</td>\n",
       "    </tr>\n",
       "    <tr>\n",
       "      <th>2462454</th>\n",
       "      <td>f93f02fdd84dcbc5f4d134fd610d8359</td>\n",
       "      <td>Go Radio</td>\n",
       "      <td>Strength to Stay</td>\n",
       "      <td>Workout</td>\n",
       "    </tr>\n",
       "    <tr>\n",
       "      <th>5304744</th>\n",
       "      <td>ef91d5bcbb4ca460ab33e09dd490a724</td>\n",
       "      <td>The Go! Team</td>\n",
       "      <td>Feelgood By Numbers</td>\n",
       "      <td>Music From Oscar (2010)</td>\n",
       "    </tr>\n",
       "    <tr>\n",
       "      <th>197659</th>\n",
       "      <td>fe7d1673dddda71ea695f21974c09872</td>\n",
       "      <td>Fishbone</td>\n",
       "      <td>Swim</td>\n",
       "      <td>Last Action Hero (Soundtrack) – Last Action Hero</td>\n",
       "    </tr>\n",
       "    <tr>\n",
       "      <th>5898447</th>\n",
       "      <td>a892024a31930b40e70491f8e9f09143</td>\n",
       "      <td>Original Crescent City Jazzers</td>\n",
       "      <td>Christine</td>\n",
       "      <td>Various Artists – 1920's Jazz New Orleans - Gr...</td>\n",
       "    </tr>\n",
       "    <tr>\n",
       "      <th>3628636</th>\n",
       "      <td>9c6dc5b8e9c69c7b47cc53719b06d072</td>\n",
       "      <td>Nat Kendricks And The Swans</td>\n",
       "      <td>(Do The) Mashed Potatoes Part 1</td>\n",
       "      <td>R&amp;B * Soul * Funk * Soul-Blues Album Collxn</td>\n",
       "    </tr>\n",
       "  </tbody>\n",
       "</table>\n",
       "</div>"
      ],
      "text/plain": [
       "                                  user_id                    \"artistname\"  \\\n",
       "3764902  a269d6d18b4a2278e109c77984d5d69a                Caspar Babypants   \n",
       "3056450  6e5cbfe3f56e26d6ea483c195c301664              El sueño de Morfeo   \n",
       "2376113  322fb7511b717ac69b728e68d685aa0c                         Rye Rye   \n",
       "541298   48b43f9ece4370dbe10fe03ecb4649a2                        Coldplay   \n",
       "5703813  36ed222dab541663004adc160317e69d                            Styx   \n",
       "2462454  f93f02fdd84dcbc5f4d134fd610d8359                        Go Radio   \n",
       "5304744  ef91d5bcbb4ca460ab33e09dd490a724                    The Go! Team   \n",
       "197659   fe7d1673dddda71ea695f21974c09872                        Fishbone   \n",
       "5898447  a892024a31930b40e70491f8e9f09143  Original Crescent City Jazzers   \n",
       "3628636  9c6dc5b8e9c69c7b47cc53719b06d072     Nat Kendricks And The Swans   \n",
       "\n",
       "                               \"trackname\"  \\\n",
       "3764902  Being for the Benefit of Mr. Kite   \n",
       "3056450             Nos vemos en el camino   \n",
       "2376113                          New Thing   \n",
       "541298                            Midnight   \n",
       "5703813                         Mr. Roboto   \n",
       "2462454                   Strength to Stay   \n",
       "5304744                Feelgood By Numbers   \n",
       "197659                                Swim   \n",
       "5898447                          Christine   \n",
       "3628636    (Do The) Mashed Potatoes Part 1   \n",
       "\n",
       "                                            \"playlistname\"  \n",
       "3764902                           kurtcobain mix tape 1989  \n",
       "3056450                                            Starred  \n",
       "2376113                                            Starred  \n",
       "541298                                        The Last Leg  \n",
       "5703813                                   Liked from Radio  \n",
       "2462454                                            Workout  \n",
       "5304744                            Music From Oscar (2010)  \n",
       "197659    Last Action Hero (Soundtrack) – Last Action Hero  \n",
       "5898447  Various Artists – 1920's Jazz New Orleans - Gr...  \n",
       "3628636        R&B * Soul * Funk * Soul-Blues Album Collxn  "
      ]
     },
     "execution_count": 3,
     "metadata": {},
     "output_type": "execute_result"
    }
   ],
   "source": [
    "df = pd.read_csv(r'data\\spotify_dataset.csv', on_bad_lines = 'skip', skiprows = lambda i: random.random() > p)\n",
    "df.sample(10)"
   ]
  },
  {
   "cell_type": "markdown",
   "id": "6576e7f4",
   "metadata": {},
   "source": [
    "Столбцы названы несколько странно. Поправим это"
   ]
  },
  {
   "cell_type": "code",
   "execution_count": 4,
   "id": "eab365fb",
   "metadata": {},
   "outputs": [],
   "source": [
    "df.rename(columns = {' \"artistname\"': 'artistname', \n",
    "                     ' \"trackname\"': 'trackname', \n",
    "                     ' \"playlistname\"': 'playlistname'}, inplace = True)"
   ]
  },
  {
   "cell_type": "markdown",
   "id": "7ebc532b",
   "metadata": {},
   "source": [
    "Поскольку использовать мы собираемся только исполнителей, столбец с названием песни и плейлистом удаляем"
   ]
  },
  {
   "cell_type": "code",
   "execution_count": 5,
   "id": "fdeb8a1e",
   "metadata": {},
   "outputs": [],
   "source": [
    "df.drop(columns = ['trackname', 'playlistname'], inplace = True)"
   ]
  },
  {
   "cell_type": "markdown",
   "id": "8745aee8",
   "metadata": {},
   "source": [
    "Вероятно, после удаления двух столбцов в таблице появились повторы."
   ]
  },
  {
   "cell_type": "code",
   "execution_count": 6,
   "id": "cb710891",
   "metadata": {},
   "outputs": [
    {
     "data": {
      "text/plain": [
       "4298306"
      ]
     },
     "execution_count": 6,
     "metadata": {},
     "output_type": "execute_result"
    }
   ],
   "source": [
    "df.duplicated().sum()"
   ]
  },
  {
   "cell_type": "markdown",
   "id": "b8577531",
   "metadata": {},
   "source": [
    "Удалим их"
   ]
  },
  {
   "cell_type": "code",
   "execution_count": 11,
   "id": "544d8486",
   "metadata": {},
   "outputs": [],
   "source": [
    "df.drop_duplicates(inplace = True)"
   ]
  },
  {
   "cell_type": "code",
   "execution_count": 12,
   "id": "c7e81c6f",
   "metadata": {},
   "outputs": [
    {
     "data": {
      "text/html": [
       "<div>\n",
       "<style scoped>\n",
       "    .dataframe tbody tr th:only-of-type {\n",
       "        vertical-align: middle;\n",
       "    }\n",
       "\n",
       "    .dataframe tbody tr th {\n",
       "        vertical-align: top;\n",
       "    }\n",
       "\n",
       "    .dataframe thead th {\n",
       "        text-align: right;\n",
       "    }\n",
       "</style>\n",
       "<table border=\"1\" class=\"dataframe\">\n",
       "  <thead>\n",
       "    <tr style=\"text-align: right;\">\n",
       "      <th></th>\n",
       "      <th>user_id</th>\n",
       "      <th>artistname</th>\n",
       "    </tr>\n",
       "  </thead>\n",
       "  <tbody>\n",
       "    <tr>\n",
       "      <th>3426381</th>\n",
       "      <td>2867816a8d25cebe589aec52870d0b9e</td>\n",
       "      <td>Luis Miguel</td>\n",
       "    </tr>\n",
       "    <tr>\n",
       "      <th>276784</th>\n",
       "      <td>c78bc4044517a6e203275cabf773a739</td>\n",
       "      <td>Joan Chamorro</td>\n",
       "    </tr>\n",
       "    <tr>\n",
       "      <th>242669</th>\n",
       "      <td>f707a22a705ac44e45be0cf8d8af2e4d</td>\n",
       "      <td>K'NAAN</td>\n",
       "    </tr>\n",
       "    <tr>\n",
       "      <th>2956484</th>\n",
       "      <td>0d88d21a59ed1a07aa1f90db706599c6</td>\n",
       "      <td>Gucci Mane</td>\n",
       "    </tr>\n",
       "    <tr>\n",
       "      <th>2819305</th>\n",
       "      <td>cd2892d86e57d8d2218a2a0715611ee8</td>\n",
       "      <td>Claudio Monteverdi</td>\n",
       "    </tr>\n",
       "    <tr>\n",
       "      <th>4068800</th>\n",
       "      <td>e9022ff9355cab700ee7c0ea7a80fe89</td>\n",
       "      <td>Kelis</td>\n",
       "    </tr>\n",
       "    <tr>\n",
       "      <th>3354788</th>\n",
       "      <td>10b213ce9c0ec1450a341dce361ca0b7</td>\n",
       "      <td>MN8</td>\n",
       "    </tr>\n",
       "    <tr>\n",
       "      <th>6160504</th>\n",
       "      <td>6d7ef5f20f9129fc5a9a36c484469e21</td>\n",
       "      <td>U.K.</td>\n",
       "    </tr>\n",
       "    <tr>\n",
       "      <th>4911502</th>\n",
       "      <td>5968fe6ff4531c2efd244584f35ea94a</td>\n",
       "      <td>Laura Mvula</td>\n",
       "    </tr>\n",
       "    <tr>\n",
       "      <th>2399933</th>\n",
       "      <td>37c3869d92ea70aea64988616c0c1fff</td>\n",
       "      <td>Made famous by Adele</td>\n",
       "    </tr>\n",
       "  </tbody>\n",
       "</table>\n",
       "</div>"
      ],
      "text/plain": [
       "                                  user_id            artistname\n",
       "3426381  2867816a8d25cebe589aec52870d0b9e           Luis Miguel\n",
       "276784   c78bc4044517a6e203275cabf773a739         Joan Chamorro\n",
       "242669   f707a22a705ac44e45be0cf8d8af2e4d                K'NAAN\n",
       "2956484  0d88d21a59ed1a07aa1f90db706599c6            Gucci Mane\n",
       "2819305  cd2892d86e57d8d2218a2a0715611ee8    Claudio Monteverdi\n",
       "4068800  e9022ff9355cab700ee7c0ea7a80fe89                 Kelis\n",
       "3354788  10b213ce9c0ec1450a341dce361ca0b7                   MN8\n",
       "6160504  6d7ef5f20f9129fc5a9a36c484469e21                  U.K.\n",
       "4911502  5968fe6ff4531c2efd244584f35ea94a           Laura Mvula\n",
       "2399933  37c3869d92ea70aea64988616c0c1fff  Made famous by Adele"
      ]
     },
     "execution_count": 12,
     "metadata": {},
     "output_type": "execute_result"
    }
   ],
   "source": [
    "df.sample(10)"
   ]
  },
  {
   "cell_type": "code",
   "execution_count": 13,
   "id": "b1421575",
   "metadata": {},
   "outputs": [
    {
     "name": "stdout",
     "output_type": "stream",
     "text": [
      "Уникальных слушателей: 15720\n",
      "Уникальных исполнителей: 219913\n"
     ]
    }
   ],
   "source": [
    "print('Уникальных слушателей: {}'.format(df['user_id'].nunique()))\n",
    "print('Уникальных исполнителей: {}'.format(df['artistname'].nunique()))"
   ]
  },
  {
   "cell_type": "markdown",
   "id": "080739ca",
   "metadata": {},
   "source": [
    "С целью, опять же, облегчить вычисления, удалим непопулярных исполнителей (тех, которых прослушали меньше пятидясети пользователей), а так же слишком пассивных и слишком активных пользователей"
   ]
  },
  {
   "cell_type": "code",
   "execution_count": 14,
   "id": "5a42a468",
   "metadata": {},
   "outputs": [],
   "source": [
    "df = df.groupby('artistname').filter(lambda x: len(x) >= 50)\n",
    "df = df.groupby('user_id').filter(lambda x: 10 <= len(x) <= 1000)"
   ]
  },
  {
   "cell_type": "code",
   "execution_count": 15,
   "id": "9565fe84",
   "metadata": {},
   "outputs": [
    {
     "name": "stdout",
     "output_type": "stream",
     "text": [
      "Уникальных слушателей: 12652\n",
      "Уникальных исполнителей: 6560\n"
     ]
    }
   ],
   "source": [
    "print('Уникальных слушателей: {}'.format(df['user_id'].nunique()))\n",
    "print('Уникальных исполнителей: {}'.format(df['artistname'].nunique()))"
   ]
  },
  {
   "cell_type": "markdown",
   "id": "15cc9abe",
   "metadata": {},
   "source": [
    "Для удобства и экономии памяти поставим каждому исполнителю и слушателю в соответствие некоторое число "
   ]
  },
  {
   "cell_type": "code",
   "execution_count": 16,
   "id": "51918c7e",
   "metadata": {},
   "outputs": [],
   "source": [
    "user_id_le = LabelEncoder()\n",
    "user_id_le.fit(df['user_id'])\n",
    "df['user_id'] = user_id_le.transform(df['user_id'])\n",
    "\n",
    "artist_le = LabelEncoder()\n",
    "artist_le.fit(df['artistname'])\n",
    "df['artistname'] = artist_le.transform(df['artistname'])"
   ]
  },
  {
   "cell_type": "code",
   "execution_count": 17,
   "id": "6b31130a",
   "metadata": {},
   "outputs": [
    {
     "data": {
      "text/html": [
       "<div>\n",
       "<style scoped>\n",
       "    .dataframe tbody tr th:only-of-type {\n",
       "        vertical-align: middle;\n",
       "    }\n",
       "\n",
       "    .dataframe tbody tr th {\n",
       "        vertical-align: top;\n",
       "    }\n",
       "\n",
       "    .dataframe thead th {\n",
       "        text-align: right;\n",
       "    }\n",
       "</style>\n",
       "<table border=\"1\" class=\"dataframe\">\n",
       "  <thead>\n",
       "    <tr style=\"text-align: right;\">\n",
       "      <th></th>\n",
       "      <th>user_id</th>\n",
       "      <th>artistname</th>\n",
       "    </tr>\n",
       "  </thead>\n",
       "  <tbody>\n",
       "    <tr>\n",
       "      <th>1</th>\n",
       "      <td>7759</td>\n",
       "      <td>1774</td>\n",
       "    </tr>\n",
       "    <tr>\n",
       "      <th>2</th>\n",
       "      <td>7759</td>\n",
       "      <td>1773</td>\n",
       "    </tr>\n",
       "    <tr>\n",
       "      <th>4</th>\n",
       "      <td>7759</td>\n",
       "      <td>4359</td>\n",
       "    </tr>\n",
       "    <tr>\n",
       "      <th>7</th>\n",
       "      <td>7759</td>\n",
       "      <td>1252</td>\n",
       "    </tr>\n",
       "    <tr>\n",
       "      <th>14</th>\n",
       "      <td>7759</td>\n",
       "      <td>2912</td>\n",
       "    </tr>\n",
       "    <tr>\n",
       "      <th>16</th>\n",
       "      <td>7759</td>\n",
       "      <td>3358</td>\n",
       "    </tr>\n",
       "    <tr>\n",
       "      <th>31</th>\n",
       "      <td>7759</td>\n",
       "      <td>1248</td>\n",
       "    </tr>\n",
       "    <tr>\n",
       "      <th>35</th>\n",
       "      <td>7759</td>\n",
       "      <td>4166</td>\n",
       "    </tr>\n",
       "    <tr>\n",
       "      <th>36</th>\n",
       "      <td>7759</td>\n",
       "      <td>4378</td>\n",
       "    </tr>\n",
       "    <tr>\n",
       "      <th>37</th>\n",
       "      <td>7759</td>\n",
       "      <td>6064</td>\n",
       "    </tr>\n",
       "  </tbody>\n",
       "</table>\n",
       "</div>"
      ],
      "text/plain": [
       "    user_id  artistname\n",
       "1      7759        1774\n",
       "2      7759        1773\n",
       "4      7759        4359\n",
       "7      7759        1252\n",
       "14     7759        2912\n",
       "16     7759        3358\n",
       "31     7759        1248\n",
       "35     7759        4166\n",
       "36     7759        4378\n",
       "37     7759        6064"
      ]
     },
     "execution_count": 17,
     "metadata": {},
     "output_type": "execute_result"
    }
   ],
   "source": [
    "df"
   ]
  },
  {
   "cell_type": "markdown",
   "id": "344c71b2",
   "metadata": {},
   "source": [
    "Сформируем отображение вида \"пользователь\" - \"множество исполнителей, которых он слушал\". Используется frozenset вместо \"обычного\" set дабы исключить возможность случайно что-то изменить"
   ]
  },
  {
   "cell_type": "code",
   "execution_count": 14,
   "id": "0bf5d8ef",
   "metadata": {},
   "outputs": [],
   "source": [
    "user_artists = dict()\n",
    "for user, sub_df in df.groupby('user_id'):\n",
    "    user_artists[user] = frozenset(sub_df['artistname'])"
   ]
  },
  {
   "cell_type": "markdown",
   "id": "3e75ea03",
   "metadata": {},
   "source": [
    "Примечательно, что распределение кол-ва уникальных исполнителей, которых слушали пользователи похоже на экспоненциальное "
   ]
  },
  {
   "cell_type": "code",
   "execution_count": 15,
   "id": "0c1f942e",
   "metadata": {},
   "outputs": [
    {
     "data": {
      "image/png": "[encoded data removed]",
      "text/plain": [
       "<Figure size 432x288 with 1 Axes>"
      ]
     },
     "metadata": {
      "needs_background": "light"
     },
     "output_type": "display_data"
    }
   ],
   "source": [
    "user_lens = [len(val) for val in user_artists.values()]\n",
    "sns.histplot(user_lens);"
   ]
  },
  {
   "cell_type": "markdown",
   "id": "77772b06",
   "metadata": {},
   "source": [
    "# Первый вариант рекомендательной системы "
   ]
  },
  {
   "cell_type": "markdown",
   "id": "e65b50f8",
   "metadata": {},
   "source": [
    "Определим множество пользователей, которые будут соединены в итоговом графе.\n",
    "\n",
    "Стоит заметить, что тут (как и далее при формировании графа исполнителей) параметр EPS подбирался так, чтоб граф с одной стороны не был слишком большим, а с другой не был сильно разрежен (в смысле количества связных компонент)"
   ]
  },
  {
   "cell_type": "code",
   "execution_count": 20,
   "id": "44f8a37d",
   "metadata": {},
   "outputs": [
    {
     "data": {
      "application/vnd.jupyter.widget-view+json": {
       "model_id": "6215d03d4e5748beb1c5d5bcd7ac2bed",
       "version_major": 2,
       "version_minor": 0
      },
      "text/plain": [
       "  0%|          | 0/12652 [00:00<?, ?it/s]"
      ]
     },
     "metadata": {},
     "output_type": "display_data"
    }
   ],
   "source": [
    "EPS = 0.45\n",
    "edges = []\n",
    "keys = list(user_artists.keys())\n",
    "for node1 in tqdm(keys):\n",
    "    for node2 in keys[keys.index(node1) + 1:]:\n",
    "        val1, val2 = user_artists[node1], user_artists[node2]\n",
    "        if len(val1 & val2) / min(len(val1), len(val2)) > EPS:\n",
    "            edges.append((node1, node2))"
   ]
  },
  {
   "cell_type": "code",
   "execution_count": 17,
   "id": "175dcb4b",
   "metadata": {},
   "outputs": [
    {
     "name": "stdout",
     "output_type": "stream",
     "text": [
      "Graph with 12652 nodes and 730271 edges\n",
      "В среднем по 57 рёбер (ребра) на вершину\n",
      "В графе 76 связных (связная) компонент(а)\n"
     ]
    }
   ],
   "source": [
    "users_gr = nx.Graph()\n",
    "users_gr.add_nodes_from(df['user_id'])\n",
    "users_gr.add_edges_from(edges)\n",
    "print(users_gr)\n",
    "print(f'В среднем по {int(len(edges) / len(user_artists))} рёбер (ребра) на вершину')\n",
    "print(f'В графе {nx.number_connected_components(users_gr)} связных (связная) компонент(а)')"
   ]
  },
  {
   "cell_type": "markdown",
   "id": "94d54a10",
   "metadata": {},
   "source": [
    "Стоит заметить, что у нас получилась некоторая кластеризация пользователей, которая в теории может обладать некоторыми интересными свойствами"
   ]
  },
  {
   "cell_type": "markdown",
   "id": "563d64af",
   "metadata": {},
   "source": [
    "Возвращаясь к сказанному в самом начале, приходится идти на компромиссы и генерировать всего 75 \"прогулок\" по графу длины 30. Очевидно, этого слишком мало, чтоб использовать всю информацию, заложенную в графе, однако имеем что имеем"
   ]
  },
  {
   "cell_type": "code",
   "execution_count": 22,
   "id": "ee45ad8c",
   "metadata": {},
   "outputs": [
    {
     "name": "stderr",
     "output_type": "stream",
     "text": [
      "Computing transition probabilities: 100%|██████████| 12652/12652 [16:26<00:00, 12.83it/s]\n",
      "Generating walks (CPU: 1): 100%|██████████| 75/75 [35:06<00:00, 28.09s/it]\n"
     ]
    }
   ],
   "source": [
    "usr_n2v = Node2Vec(users_gr, dimensions = 64, walk_length = 30, num_walks = 75, p = 10, q = 5)"
   ]
  },
  {
   "cell_type": "markdown",
   "id": "35b9ef3f",
   "metadata": {},
   "source": [
    "За несколько \"шагов\" по графу можно в теории прийти от пользователя, предпочитающего, например, классическую музыку к пользователю, предпочитающему тяжёлый рок, так что ширину окна берём умеренную"
   ]
  },
  {
   "cell_type": "code",
   "execution_count": 23,
   "id": "2b5d2335",
   "metadata": {},
   "outputs": [],
   "source": [
    "usr_model = usr_n2v.fit(window = 5, min_count = 1)"
   ]
  },
  {
   "cell_type": "markdown",
   "id": "d85b7469",
   "metadata": {},
   "source": [
    "Ну и осталось написать функции, что дадут рекомендации, исходя из полученного векторого представления графа"
   ]
  },
  {
   "cell_type": "code",
   "execution_count": 90,
   "id": "73f81997",
   "metadata": {},
   "outputs": [],
   "source": [
    "def get_recomendations_by_user(user, usr_model = usr_model, user_artists = user_artists, artist_le = artist_le, out = 'ids'):\n",
    "    '''\n",
    "    Функция для выдачи рекомендация пользователю\n",
    "    \n",
    "    Параметры:\n",
    "        user (int): ID пользователя, которомы мы хотим дать рекомендации\n",
    "        usr_model: модель из модуля gensim, что содержит векторные представления пользователей\n",
    "        user_artists (dict): отображение вида \"пользователь\" - \"множество прослушанных им исполнителей\"\n",
    "        artist_le (sklearn.LabelEncoder): LabelEncoder для перевода чисел в исполнителей и наоборот\n",
    "        out (str): функция возвращает ID рекомендованных исполнителей, если out == 'ids' и имена, если out == 'names'\n",
    "    Возвращаемое значение:\n",
    "        Список рекомендованных пользователю user исполнителей\n",
    "    '''\n",
    "    assert out in ['ids', 'names'], 'Некорретный параметр out'\n",
    "    # находим ID ближайшего пользователя. \n",
    "    m_s = usr_model.wv.most_similar(str(user))[0][0]\n",
    "    if out == 'ids':\n",
    "        return list(user_artists[int(m_s)] - user_artists[user])\n",
    "    else:\n",
    "        return artist_le.inverse_transform(list(user_artists[int(m_s)] - user_artists[user])) "
   ]
  },
  {
   "cell_type": "markdown",
   "id": "4bd85fb0",
   "metadata": {},
   "source": [
    "Помимо всего прочего, в демонстрационных целях нам понадобится функция, что по данному пользователю выведет список имён прослушанных им исполнителей"
   ]
  },
  {
   "cell_type": "code",
   "execution_count": 91,
   "id": "83c4b177",
   "metadata": {},
   "outputs": [],
   "source": [
    "def get_artists(user, user_artists = user_artists, out = 'ids'):\n",
    "    '''\n",
    "    Функция для выдачи рекомендация пользователю\n",
    "    \n",
    "    Параметры:\n",
    "        user (int): ID пользователя, которомы мы хотим дать рекомендации\n",
    "        user_artists (dict): отображение вида \"пользователь\" - \"множество прослушанных им исполнителей\"\n",
    "        out (str): функция возвращает ID рекомендованных исполнителей, если out == 'ids' и имена, если out == 'names'\n",
    "    Возвращаемое значение:\n",
    "        Список прослушанных пользователем user исполнителей\n",
    "    '''\n",
    "    assert out in ['ids', 'names'], 'Некорретный параметр out'\n",
    "    if out == 'ids':\n",
    "        return list(user_artists[user])\n",
    "    else:\n",
    "        return artist_le.inverse_transform(list(user_artists[user]))"
   ]
  },
  {
   "cell_type": "markdown",
   "id": "f3e811d3",
   "metadata": {},
   "source": [
    "## Демонстрация работы алгоритма"
   ]
  },
  {
   "cell_type": "code",
   "execution_count": 25,
   "id": "9864587f",
   "metadata": {},
   "outputs": [
    {
     "data": {
      "text/plain": [
       "array(['Ron Pope', 'Bastille', 'Andrew Belle', 'Ed Sheeran', 'Fuel',\n",
       "       'Dead by April', 'Deaf Havana', 'Lana Del Rey', 'Brandi Carlile',\n",
       "       'Damien Rice', 'Tom Odell', 'Black Veil Brides', 'Ben Howard',\n",
       "       'Avenged Sevenfold', 'Evanescence', 'Seether', 'The xx', 'Broods',\n",
       "       'Theory Of A Deadman', 'Creed', 'Bryan Adams', 'Adele', 'Saliva',\n",
       "       'Daughter', 'Daughtry', \"Plain White T's\", 'The Neighbourhood'],\n",
       "      dtype=object)"
      ]
     },
     "execution_count": 25,
     "metadata": {},
     "output_type": "execute_result"
    }
   ],
   "source": [
    "get_artists(1, out = 'names')"
   ]
  },
  {
   "cell_type": "code",
   "execution_count": 64,
   "id": "d56eacdf",
   "metadata": {},
   "outputs": [
    {
     "data": {
      "text/plain": [
       "array(['Tim Hughes', 'Matt Redman', 'blink-182', 'Friendly Fires',\n",
       "       'Studio 99', 'Linkin Park', 'OneRepublic', 'Nicki Minaj',\n",
       "       'Twin Atlantic', 'Boys Like Girls', 'Muse', 'A Day To Remember',\n",
       "       'Sum 41', 'Kings Of Leon', 'McFly', 'The Red Jumpsuit Apparatus',\n",
       "       'My Chemical Romance', 'Scouting For Girls', 'The Kooks',\n",
       "       'Hillsong United'], dtype=object)"
      ]
     },
     "execution_count": 64,
     "metadata": {},
     "output_type": "execute_result"
    }
   ],
   "source": [
    "get_recomendations_by_user(1, out = 'names')[:20]"
   ]
  },
  {
   "cell_type": "code",
   "execution_count": 65,
   "id": "edca8065",
   "metadata": {},
   "outputs": [
    {
     "data": {
      "text/plain": [
       "array(['Kid Cudi', 'Jason Mraz', 'Asher Roth', 'The Postal Service',\n",
       "       'The Clash', 'Prince', 'Justin Timberlake', 'Gym Class Heroes',\n",
       "       '50 Cent', 'Beck', 'Disturbed', 'Coldplay', 'Daft Punk',\n",
       "       'Gnarls Barkley', 'Tyler, The Creator', 'Black Star',\n",
       "       'Lupe Fiasco', 'The Weeknd', 'Kanye West', 'Nirvana', 'N.E.R.D.',\n",
       "       'Danger Mouse', 'Ryan Leslie', 'Gorillaz', 'The Shins',\n",
       "       'Broken Bells', 'Blur', 'Bob Marley', 'Pink Floyd', 'Frank Ocean',\n",
       "       'The Strokes', 'Robin Thicke', 'Travis Barker', 'Cee Lo Green',\n",
       "       'Julian Casablancas'], dtype=object)"
      ]
     },
     "execution_count": 65,
     "metadata": {},
     "output_type": "execute_result"
    }
   ],
   "source": [
    "get_artists(10, out = 'names')"
   ]
  },
  {
   "cell_type": "code",
   "execution_count": 66,
   "id": "c1d51db5",
   "metadata": {},
   "outputs": [
    {
     "data": {
      "text/plain": [
       "array(['Jason Derulo', 'Gil Scott-Heron & Jamie xx', \"D'Angelo\", 'Eagles',\n",
       "       '2 Chainz', 'DMX', 'Ludacris', 'Muse', 'Black Lips', 'Rudimental',\n",
       "       'Death From Above 1979', 'The Cribs', 'Xzibit', 'Alex Turner',\n",
       "       'Hozier', 'JAY Z', 'The Rolling Stones', 'Yeah Yeah Yeahs',\n",
       "       'The White Stripes', 'The Libertines'], dtype=object)"
      ]
     },
     "execution_count": 66,
     "metadata": {},
     "output_type": "execute_result"
    }
   ],
   "source": [
    "get_recomendations_by_user(10, out = 'names')[:20]"
   ]
  },
  {
   "cell_type": "markdown",
   "id": "422ac5b2",
   "metadata": {},
   "source": [
    "# Второй вариант рекомендательной системы "
   ]
  },
  {
   "cell_type": "markdown",
   "id": "5416f18f",
   "metadata": {},
   "source": [
    "Аналогично предыдущему случаю, формируем отображение вида \"исполнитель\" - \"множество его слушателей\" "
   ]
  },
  {
   "cell_type": "code",
   "execution_count": 34,
   "id": "c0349aeb",
   "metadata": {},
   "outputs": [],
   "source": [
    "artist_user = dict()\n",
    "for artist, sub_df in df.groupby(by = 'artistname'):\n",
    "    artist_user[artist] = frozenset(sub_df['user_id'])"
   ]
  },
  {
   "cell_type": "markdown",
   "id": "e918b468",
   "metadata": {},
   "source": [
    "Определим, каких исполнителей должно соединить ребром"
   ]
  },
  {
   "cell_type": "code",
   "execution_count": 35,
   "id": "20fe4e50",
   "metadata": {},
   "outputs": [
    {
     "data": {
      "application/vnd.jupyter.widget-view+json": {
       "model_id": "fbfe8cc05dc149978b0898aaac943565",
       "version_major": 2,
       "version_minor": 0
      },
      "text/plain": [
       "  0%|          | 0/6560 [00:00<?, ?it/s]"
      ]
     },
     "metadata": {},
     "output_type": "display_data"
    }
   ],
   "source": [
    "EPS = 0.4\n",
    "art_edges = []\n",
    "keys = list(artist_user.keys())\n",
    "for node1 in tqdm(keys):\n",
    "    for node2 in keys[keys.index(node1) + 1:]:\n",
    "        val1, val2 = artist_user[node1], artist_user[node2]\n",
    "        if len(val1 & val2) / min(len(val1), len(val2)) > EPS:\n",
    "            art_edges.append((node1, node2))"
   ]
  },
  {
   "cell_type": "code",
   "execution_count": 36,
   "id": "1a21d870",
   "metadata": {},
   "outputs": [
    {
     "name": "stdout",
     "output_type": "stream",
     "text": [
      "Graph with 6560 nodes and 114148 edges\n",
      "В среднем по 17 рёбер (ребра) на вершину\n",
      "В графе 12 связных компонент\n"
     ]
    }
   ],
   "source": [
    "artists_gr = nx.Graph()\n",
    "artists_gr.add_nodes_from(df['artistname'])\n",
    "artists_gr.add_edges_from(art_edges)\n",
    "print(artists_gr)\n",
    "print(f'В среднем по {int(len(art_edges) / len(artist_user))} рёбер (ребра) на вершину')\n",
    "print(f'В графе {nx.number_connected_components(artists_gr)} связных компонент')"
   ]
  },
  {
   "cell_type": "markdown",
   "id": "e5a2a07c",
   "metadata": {},
   "source": [
    "Занятно, что распределение снова походит на экспоненциальное "
   ]
  },
  {
   "cell_type": "code",
   "execution_count": 37,
   "id": "1671d679",
   "metadata": {},
   "outputs": [
    {
     "data": {
      "image/png": "[encoded data removed]",
      "text/plain": [
       "<Figure size 432x288 with 1 Axes>"
      ]
     },
     "metadata": {
      "needs_background": "light"
     },
     "output_type": "display_data"
    }
   ],
   "source": [
    "art_lens = [len(val) for val in artist_user.values()]\n",
    "sns.histplot(art_lens);"
   ]
  },
  {
   "cell_type": "markdown",
   "id": "47199808",
   "metadata": {},
   "source": [
    "В этом случае и длина \"прогулки\" и их количество больше, чем в случае с пользователями, а сам граф заметно меньше, так что в этом случае модель должна уловить заметно больше свойств графа"
   ]
  },
  {
   "cell_type": "code",
   "execution_count": 39,
   "id": "2fd86d14",
   "metadata": {},
   "outputs": [
    {
     "name": "stderr",
     "output_type": "stream",
     "text": [
      "Computing transition probabilities: 100%|██████████| 6560/6560 [05:01<00:00, 21.79it/s]\n",
      "Generating walks (CPU: 1): 100%|██████████| 150/150 [1:12:34<00:00, 29.03s/it]\n"
     ]
    }
   ],
   "source": [
    "artist_n2v = Node2Vec(artists_gr, dimensions = 64, walk_length = 50, num_walks = 150, p = 10, q = 5)"
   ]
  },
  {
   "cell_type": "code",
   "execution_count": 40,
   "id": "07cc7c8e",
   "metadata": {},
   "outputs": [],
   "source": [
    "art_model = artist_n2v.fit(window = 7, min_count = 1)"
   ]
  },
  {
   "cell_type": "code",
   "execution_count": 94,
   "id": "4815ed3e",
   "metadata": {},
   "outputs": [],
   "source": [
    "def get_recomendation_by_artist_id(artist_ids, art_model = art_model,\n",
    "                                   artist_le = artist_le, topn = 15, out = 'ids'):\n",
    "    '''\n",
    "    Функция для рекомендации артистов на основе списка ID других артистов\n",
    "    Параметры:\n",
    "       artist_ids: ID исполнителя\n",
    "       art_model: Модель, содержащая векторные представления артистов\n",
    "       artist_le (sklearn.LabelEncoder): LabelEncoder для перевода чисел в исполнителей и наоборот\n",
    "       topn (int): Количество исполнителей на выходе\n",
    "       out (str): функция возвращает ID рекомендованных исполнителей, если out == 'ids' и имена, если out == 'names'\n",
    "    Возвращаемое значение:\n",
    "       topn рекомендованных исполнителей\n",
    "    '''\n",
    "    assert out in ['ids', 'names'], 'Некорретный параметр out'\n",
    "    # в виду особенностей реализации, модель art_model ожидает на вход строки,\n",
    "    # так что необходимо преобразовать числа в строки\n",
    "    artist_ids = [str(_id) for _id in artist_ids]\n",
    "    # находим topn ближайших векторов\n",
    "    m_s = art_model.wv.most_similar(artist_ids, topn = topn)\n",
    "    # функция выше возвращает список кортежей вида (ID исполнителя, косинус угла между этим исполнителем\n",
    "    # и остальными), так что нас интересуют только первые элементы этих кортежей\n",
    "    recs = [int(a[0]) for a in m_s]\n",
    "    \n",
    "    if out == 'ids':\n",
    "        return recs\n",
    "    else:\n",
    "        return artist_le.inverse_transform(recs)"
   ]
  },
  {
   "cell_type": "markdown",
   "id": "bc4e642d",
   "metadata": {},
   "source": [
    "Для удобства и наглядной демонстрации работы этой системы, определим функцию, аналогичную той, что находится ячейкой выше, за тем лишь исключением, что принимать она будет не ID исполнителей, а их имена "
   ]
  },
  {
   "cell_type": "code",
   "execution_count": 93,
   "id": "07eac328",
   "metadata": {},
   "outputs": [],
   "source": [
    "def get_recomendation_by_artist_names(artist_names, art_model = art_model, \n",
    "                                      artist_le = artist_le, topn = 15, out = 'ids'):\n",
    "    '''\n",
    "    Функция для рекомендации артистов на основе списка имён других артистов\n",
    "    Параметры:\n",
    "       artist_names (list): Список имён исполнителей, исходя из которых будут получены рекомендации \n",
    "       art_model: Модель, содержащая векторные представления артистов\n",
    "       artist_le (sklearn.LabelEncoder): LabelEncoder для перевода чисел в исполнителей и наоборот\n",
    "       topn (int): Количество исполнителей на выходе\n",
    "       out (str): функция возвращает ID рекомендованных исполнителей, если out == 'ids' и имена, если out == 'names'\n",
    "    Возвращаемое значение:\n",
    "       topn рекомендованных исполнителей\n",
    "    '''\n",
    "    artist_ids = artist_le.transform(artist_names)\n",
    "    return get_recomendation_by_artist_id(artist_ids, art_model, artist_le, topn = topn, out = out)"
   ]
  },
  {
   "cell_type": "markdown",
   "id": "17c72d69",
   "metadata": {},
   "source": [
    "## Демонстрация работы алгоритма"
   ]
  },
  {
   "cell_type": "code",
   "execution_count": 75,
   "id": "284ca054",
   "metadata": {},
   "outputs": [
    {
     "data": {
      "text/plain": [
       "array(['Snoop Dogg', 'Flo Rida', 'Rihanna', 'Vinnie Paz', 'Katy Perry',\n",
       "       'Porta', 'Chris Brown', 'Dead by April', 'Pitbull', 'Nickelback',\n",
       "       'Hollywood Undead', 'Nomy', 'David Guetta', 'JAY Z', 'Lil Wayne'],\n",
       "      dtype=object)"
      ]
     },
     "execution_count": 75,
     "metadata": {},
     "output_type": "execute_result"
    }
   ],
   "source": [
    "get_recomendation_by_artist_names(['Eminem'], out = 'names')"
   ]
  },
  {
   "cell_type": "code",
   "execution_count": 87,
   "id": "82f88f96",
   "metadata": {},
   "outputs": [
    {
     "data": {
      "text/plain": [
       "array(['Katy Perry', 'David Guetta', 'Maroon 5', 'Beyoncé', 'Pitbull',\n",
       "       'Avicii', 'Calvin Harris', 'Flo Rida', 'Porta', 'Dead by April',\n",
       "       'Lady Gaga', 'Hollywood Undead', 'Bruno Mars', 'Usher',\n",
       "       'Snoop Dogg'], dtype=object)"
      ]
     },
     "execution_count": 87,
     "metadata": {},
     "output_type": "execute_result"
    }
   ],
   "source": [
    "get_recomendation_by_artist_names(['Eminem', 'Rihanna'], out = 'names')"
   ]
  },
  {
   "cell_type": "code",
   "execution_count": 88,
   "id": "1959abf3",
   "metadata": {},
   "outputs": [
    {
     "data": {
      "text/plain": [
       "array(['Dr. Dre', 'The Notorious B.I.G.', 'Nas', 'Ice Cube',\n",
       "       'Busta Rhymes', 'OutKast', 'Wu-Tang Clan', 'Ludacris', '50 Cent',\n",
       "       'LL Cool J', 'Snoop Dogg', 'DMX', 'Lupe Fiasco',\n",
       "       'A Tribe Called Quest', 'T.I.'], dtype=object)"
      ]
     },
     "execution_count": 88,
     "metadata": {},
     "output_type": "execute_result"
    }
   ],
   "source": [
    "get_recomendation_by_artist_names(['2Pac'], out = 'names')"
   ]
  },
  {
   "cell_type": "code",
   "execution_count": 89,
   "id": "f6a5c469",
   "metadata": {},
   "outputs": [
    {
     "data": {
      "text/plain": [
       "array(['N.E.R.D.', 'Kris Kross', 'Sir Mix-A-Lot', \"Quad City DJ's\",\n",
       "       'DJ Jazzy Jeff & The Fresh Prince', 'Montell Jordan', 'Diddy',\n",
       "       'Wyclef Jean', 'Warren G', 'Estelle', 'Too $hort', 'Salt-N-Pepa',\n",
       "       'DJ Kool', 'Bone Thugs-N-Harmony', 'Panjabi MC'], dtype=object)"
      ]
     },
     "execution_count": 89,
     "metadata": {},
     "output_type": "execute_result"
    }
   ],
   "source": [
    "get_recomendation_by_artist_names(['Jay-Z'], out = 'names')"
   ]
  },
  {
   "cell_type": "markdown",
   "id": "aae38896",
   "metadata": {},
   "source": [
    "# Третий вариант рекомендательной системы \n",
    "\n",
    "Потерпел фиаско. Напоминаю: предполагалось в качестве рекомендаций брать пересечение выходов первого и второго вариантов рекомендательной системы. Однако имеем следующее:"
   ]
  },
  {
   "cell_type": "code",
   "execution_count": 80,
   "id": "8377ca39",
   "metadata": {},
   "outputs": [
    {
     "data": {
      "application/vnd.jupyter.widget-view+json": {
       "model_id": "ee1a2d15edeb416a91fa76cc679a6dc4",
       "version_major": 2,
       "version_minor": 0
      },
      "text/plain": [
       "  0%|          | 0/12652 [00:00<?, ?it/s]"
      ]
     },
     "metadata": {},
     "output_type": "display_data"
    },
    {
     "name": "stdout",
     "output_type": "stream",
     "text": [
      "Подходящих пользователей не нашлось\n"
     ]
    }
   ],
   "source": [
    "founded = False\n",
    "for user_id in tqdm(user_artists.keys()):\n",
    "    # список рекомендаций с использованием первого метода\n",
    "    user_recs = get_recomendations_by_user(user_id, out = 'names')\n",
    "    # список исполнителей, которых слушает данный пользователь \n",
    "    user_listen_to = get_artists(user_id, out = 'names')\n",
    "    # список рекомендаций с использованием второго метода\n",
    "    artist_recs = get_recomendation_by_artist_names(user_listen_to, topn = 30)\n",
    "    # пересечение полученных выше рекомендаций \n",
    "    main_recs = list(set(user_recs) & set(artist_recs))\n",
    "    \n",
    "    if main_recs != []:\n",
    "        founded = True\n",
    "if not founded:\n",
    "    print('Подходящих пользователей не нашлось')"
   ]
  },
  {
   "cell_type": "markdown",
   "id": "c8ef637e",
   "metadata": {},
   "source": [
    "Связано ли это с принципиальным различием двух подходов или с недообученностью обоих не совсем ясно, но на случай, если кто-то захочет поэкспериментировать, прилагаю функцию, что реализует третий метод:"
   ]
  },
  {
   "cell_type": "code",
   "execution_count": 92,
   "id": "27966ea2",
   "metadata": {},
   "outputs": [],
   "source": [
    "def get_recomendation(user_id, art_model = art_model, usr_model = usr_model, \n",
    "                      user_artist = user_artists, artist_le = artist_le, topn = 15):\n",
    "    '''\n",
    "    Функция, что получает рекомендации первыми двумя способами и возвращает их пересечение \n",
    "    Параметры:\n",
    "        user_id (int): ID пользователя\n",
    "        art_model: модель из модуля gensim, что содержит векторные представления артистов\n",
    "        usr_model: модель из модуля gensim, что содержит векторные представления пользователей\n",
    "        user_artists (dict): отображение вида \"пользователь\" - \"множество прослушанных им исполнителей\"\n",
    "        artist_le (sklearn.LabelEncoder): LabelEncoder для перевода чисел в исполнителей и наоборот\n",
    "        topn (int): Количество исполнителей на выходе\n",
    "    '''\n",
    "    # список рекомендаций с использованием первого метода\n",
    "    user_recs = get_recomendations_by_user(user_id, usr_model = usr_model, user_artists = user_artists, \n",
    "                                           artist_le = artist_le, out = 'names')\n",
    "    # список исполнителей, которых слушает данный пользователь \n",
    "    user_listen_to = get_artists(user_id, out = 'names')\n",
    "    # список рекомендаций с использованием второго метода\n",
    "    artist_recs = get_recomendation_by_artist_names(user_listen_to, art_model = art_model, \n",
    "                                                    artist_le = artist_le, topn = topn)\n",
    "    \n",
    "    return list(set(user_recs) & set(artist_recs))"
   ]
  }
 ],
 "metadata": {
  "kernelspec": {
   "display_name": "Python 3 (ipykernel)",
   "language": "python",
   "name": "python3"
  },
  "language_info": {
   "codemirror_mode": {
    "name": "ipython",
    "version": 3
   },
   "file_extension": ".py",
   "mimetype": "text/x-python",
   "name": "python",
   "nbconvert_exporter": "python",
   "pygments_lexer": "ipython3",
   "version": "3.9.12"
  }
 },
 "nbformat": 4,
 "nbformat_minor": 5
}
